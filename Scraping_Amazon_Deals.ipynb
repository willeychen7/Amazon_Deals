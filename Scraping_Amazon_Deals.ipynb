{
  "nbformat": 4,
  "nbformat_minor": 0,
  "metadata": {
    "colab": {
      "name": "Scraping_Amazon_Deals",
      "provenance": [],
      "collapsed_sections": [
        "qgRHG6XWd5n_",
        "ARn7xf6dqvra",
        "fqB0LqmYr_c3",
        "Yy0HCMqSsZxP"
      ]
    },
    "kernelspec": {
      "display_name": "Python 3",
      "name": "python3"
    },
    "language_info": {
      "name": "python"
    }
  },
  "cells": [
    {
      "cell_type": "markdown",
      "metadata": {
        "id": "qgRHG6XWd5n_"
      },
      "source": [
        "# Part 1. Prep before Scraping"
      ]
    },
    {
      "cell_type": "markdown",
      "metadata": {
        "id": "yht8GqkTdHBs"
      },
      "source": [
        "## 1.1 Install the BS4 package if you havent already\n",
        "pulling data out of HTML and XML files."
      ]
    },
    {
      "cell_type": "code",
      "metadata": {
        "id": "6cUHqisHJI4B"
      },
      "source": [
        "#!pip install bs4"
      ],
      "execution_count": 1,
      "outputs": []
    },
    {
      "cell_type": "markdown",
      "metadata": {
        "id": "JH05xDvaKLkV"
      },
      "source": [
        "## 1.2 Create an User-Agent \n",
        "avoid getting blocked"
      ]
    },
    {
      "cell_type": "code",
      "metadata": {
        "id": "Q-bgVEikKUYZ"
      },
      "source": [
        "# user-gent from website: https://developers.whatismybrowser.com/\n",
        "HEADERS = ({'User-Agent':\n",
        "            'Mozilla/5.0 (Macintosh; Intel Mac OS X 10_15_7) AppleWebKit/537.36 (KHTML, like Gecko) Chrome/95.0.4638.69 Safari/537.36',\n",
        "            'Accept-Language': 'en-US, en;q=0.5'})"
      ],
      "execution_count": 2,
      "outputs": []
    },
    {
      "cell_type": "code",
      "metadata": {
        "id": "CxGScLi_GZyG"
      },
      "source": [
        "# store the scraped deals\n",
        "deals_list = []\n",
        "\n",
        "# the product interested in\n",
        "searchterm = 'ergonomic+vertical+wireless+mouse'\n",
        "\n",
        "# link of the website\n",
        "url = f'https://www.amazon.com/s?k={searchterm}&ref=nb_sb_noss'"
      ],
      "execution_count": 3,
      "outputs": []
    },
    {
      "cell_type": "markdown",
      "metadata": {
        "id": "ARn7xf6dqvra"
      },
      "source": [
        "# Part 2: Scraping Product Details"
      ]
    },
    {
      "cell_type": "markdown",
      "metadata": {
        "id": "kz6m22m-Kw-s"
      },
      "source": [
        "## 2.1 Request html information, parse into soup"
      ]
    },
    {
      "cell_type": "code",
      "metadata": {
        "id": "O7VkTlA3Gdks"
      },
      "source": [
        "# define a function to get the html content from the webpage\n",
        "import requests\n",
        "from bs4 import BeautifulSoup\n",
        "\n",
        "def getdata(url):\n",
        "  page = requests.get(url, headers=HEADERS)\n",
        "  soup = BeautifulSoup(page.content, \"html.parser\")\n",
        "  return soup\n",
        "\n",
        "#getdata(url) get the page content"
      ],
      "execution_count": 4,
      "outputs": []
    },
    {
      "cell_type": "markdown",
      "metadata": {
        "id": "PK4JvNtOWzjv"
      },
      "source": [
        "##2.2 Scrape product details on product title, link, price, coupons, stars ratings"
      ]
    },
    {
      "cell_type": "code",
      "metadata": {
        "id": "HqIBbB0TetZq"
      },
      "source": [
        "def get_deals(soup):\n",
        "  product = soup.find_all('div',{'data-component-type':'s-search-result'})\n",
        "\n",
        "  for item in product:\n",
        "        check = item.find_all('span',{'class':'a-offscreen'})\n",
        "        if check != []:\n",
        "          # title\n",
        "          title = item.find('a',{'class':'a-link-normal a-text-normal'}).text.strip()[:25]\n",
        "          #link\n",
        "          link = item.find('a',{'class':'a-link-normal a-text-normal'})['href']\n",
        "        \n",
        "          #sale price and original price\n",
        "          try:\n",
        "            sale_price = float(item.find_all('span',{\"class\":'a-offscreen'})[0].text.replace('$','').replace(',','').strip())\n",
        "            old_price = float(item.find_all('span',{\"class\":'a-offscreen'})[1].text.replace('$','').replace(',','').strip())\n",
        "          except:\n",
        "            old_price = float(item.find('span',{\"class\":'a-offscreen'}).text.replace('$','').replace(',','').strip())\n",
        "\n",
        "          # coupon availability\n",
        "          try:\n",
        "            coupon = item.find('span',{'class':\"a-size-base s-highlighted-text-padding aok-inline-block s-coupon-highlight-color\"}).text.strip()\n",
        "          except:\n",
        "            coupon = 'no coupon'\n",
        "\n",
        "\n",
        "          #number of reviews\n",
        "          try:\n",
        "            review = float(item.find('span',{\"class\":'a-size-base'}).text.strip())\n",
        "          except:\n",
        "            review = 0\n",
        "\n",
        "          # star ratings\n",
        "          try:\n",
        "            rating = item.find('span',{\"class\":'a-icon-alt'}).text.strip()[:3]\n",
        "          except:\n",
        "            rating = None\n",
        "        \n",
        "          # create a dictionary to get all the information above\n",
        "          saleitem = {\n",
        "            'title':title,\n",
        "            'link':link,\n",
        "            'sale_price':sale_price,\n",
        "            'old_price':old_price,\n",
        "            'coupon':coupon,\n",
        "            'review': review,\n",
        "            'star_ratings': rating\n",
        "            }\n",
        "          deals_list.append(saleitem)\n",
        "  return"
      ],
      "execution_count": 5,
      "outputs": []
    },
    {
      "cell_type": "markdown",
      "metadata": {
        "id": "fqB0LqmYr_c3"
      },
      "source": [
        "## 2.3 Get product details page by page"
      ]
    },
    {
      "cell_type": "code",
      "metadata": {
        "id": "eQoQAAX0iPQK"
      },
      "source": [
        "# a definition that allows auto page flip \n",
        "def getnextpage(soup):\n",
        "    page = soup.find('ul',attrs={\"class\":'a-pagination'})\n",
        "    if page.find('li',attrs={\"class\":'a-last'}).find('a'):\n",
        "      url = 'http://www.amazon.com'+ str(page.find('li',{\"class\":'a-last'}).find('a')['href'])\n",
        "      return url\n",
        "    else:\n",
        "      return"
      ],
      "execution_count": 6,
      "outputs": []
    },
    {
      "cell_type": "markdown",
      "metadata": {
        "id": "Yy0HCMqSsZxP"
      },
      "source": [
        "##2.4 Save product details into a dataframe"
      ]
    },
    {
      "cell_type": "code",
      "metadata": {
        "id": "-N36dFVaJIzY",
        "colab": {
          "base_uri": "https://localhost:8080/"
        },
        "outputId": "8c07641a-377a-48ac-a84b-8a456bbc6106"
      },
      "source": [
        "import time\n",
        "\n",
        "while True:\n",
        "  soup = getdata(url)\n",
        "  get_deals(soup)\n",
        "  url = getnextpage(soup)\n",
        "  if not url:\n",
        "    break\n",
        "  else:\n",
        "    print(url)\n",
        "    print(len(deals_list))\n",
        "  time.sleep(1)\n",
        "    "
      ],
      "execution_count": 7,
      "outputs": [
        {
          "output_type": "stream",
          "name": "stdout",
          "text": [
            "http://www.amazon.com/s?k=ergonomic+vertical+wireless+mouse&page=2&qid=1638547746&ref=sr_pg_1\n",
            "22\n",
            "http://www.amazon.com/s?k=ergonomic+vertical+wireless+mouse&page=3&qid=1638547748&ref=sr_pg_2\n",
            "44\n",
            "http://www.amazon.com/s?k=ergonomic+vertical+wireless+mouse&page=4&qid=1638547751&ref=sr_pg_3\n",
            "66\n",
            "http://www.amazon.com/s?k=ergonomic+vertical+wireless+mouse&page=5&qid=1638547753&ref=sr_pg_4\n",
            "86\n",
            "http://www.amazon.com/s?k=ergonomic+vertical+wireless+mouse&page=6&qid=1638547755&ref=sr_pg_5\n",
            "108\n",
            "http://www.amazon.com/s?k=ergonomic+vertical+wireless+mouse&page=7&qid=1638547758&ref=sr_pg_6\n",
            "130\n",
            "http://www.amazon.com/s?k=ergonomic+vertical+wireless+mouse&page=8&qid=1638547760&ref=sr_pg_7\n",
            "152\n",
            "http://www.amazon.com/s?k=ergonomic+vertical+wireless+mouse&page=9&qid=1638547762&ref=sr_pg_8\n",
            "174\n",
            "http://www.amazon.com/s?k=ergonomic+vertical+wireless+mouse&page=10&qid=1638547764&ref=sr_pg_9\n",
            "195\n",
            "http://www.amazon.com/s?k=ergonomic+vertical+wireless+mouse&page=11&qid=1638547767&ref=sr_pg_10\n",
            "216\n",
            "http://www.amazon.com/s?k=ergonomic+vertical+wireless+mouse&page=12&qid=1638547769&ref=sr_pg_11\n",
            "237\n",
            "http://www.amazon.com/s?k=ergonomic+vertical+wireless+mouse&page=13&qid=1638547771&ref=sr_pg_12\n",
            "259\n",
            "http://www.amazon.com/s?k=ergonomic+vertical+wireless+mouse&page=14&qid=1638547773&ref=sr_pg_13\n",
            "281\n",
            "http://www.amazon.com/s?k=ergonomic+vertical+wireless+mouse&page=15&qid=1638547776&ref=sr_pg_14\n",
            "302\n",
            "http://www.amazon.com/s?k=ergonomic+vertical+wireless+mouse&page=16&qid=1638547778&ref=sr_pg_15\n",
            "321\n",
            "http://www.amazon.com/s?k=ergonomic+vertical+wireless+mouse&page=17&qid=1638547780&ref=sr_pg_16\n",
            "340\n",
            "http://www.amazon.com/s?k=ergonomic+vertical+wireless+mouse&page=18&qid=1638547782&ref=sr_pg_17\n",
            "361\n",
            "http://www.amazon.com/s?k=ergonomic+vertical+wireless+mouse&page=19&qid=1638547784&ref=sr_pg_18\n",
            "381\n",
            "http://www.amazon.com/s?k=ergonomic+vertical+wireless+mouse&page=20&qid=1638547787&ref=sr_pg_19\n",
            "401\n"
          ]
        }
      ]
    },
    {
      "cell_type": "code",
      "metadata": {
        "colab": {
          "base_uri": "https://localhost:8080/"
        },
        "id": "cJAOOYz55gMv",
        "outputId": "3a5adcdd-1bfb-451b-b1fc-9be920e2643c"
      },
      "source": [
        "import pandas as pd\n",
        "df = pd.DataFrame(deals_list)\n",
        "df.info()"
      ],
      "execution_count": 8,
      "outputs": [
        {
          "output_type": "stream",
          "name": "stdout",
          "text": [
            "<class 'pandas.core.frame.DataFrame'>\n",
            "RangeIndex: 409 entries, 0 to 408\n",
            "Data columns (total 7 columns):\n",
            " #   Column        Non-Null Count  Dtype  \n",
            "---  ------        --------------  -----  \n",
            " 0   title         409 non-null    object \n",
            " 1   link          409 non-null    object \n",
            " 2   sale_price    409 non-null    float64\n",
            " 3   old_price     409 non-null    float64\n",
            " 4   coupon        409 non-null    object \n",
            " 5   review        409 non-null    float64\n",
            " 6   star_ratings  387 non-null    object \n",
            "dtypes: float64(3), object(4)\n",
            "memory usage: 22.5+ KB\n"
          ]
        }
      ]
    },
    {
      "cell_type": "code",
      "metadata": {
        "id": "7wyMZepWzsGT",
        "colab": {
          "base_uri": "https://localhost:8080/"
        },
        "outputId": "b1377b28-7162-43f7-e45e-592b8530adfb"
      },
      "source": [
        "# the final price need to pay\n",
        "import re as re\n",
        "df['final_price'] = \"\"\n",
        "for i in range(len(df)):\n",
        "  if '$' in df['coupon'][i]: \n",
        "    df['final_price'][i] = df['sale_price'][i] - float(re.findall(r'[0-9]+',str(df['coupon'][i]))[0])\n",
        "\n",
        "  elif '%' in df['coupon'][i]:\n",
        "    df['final_price'][i] = df['sale_price'][i] * (100- float(re.findall(r'[0-9]+',str(df['coupon'][i]))[0]))/100\n",
        "  else:\n",
        "    df['final_price'][i] = df['sale_price'][i]\n",
        "\n"
      ],
      "execution_count": 9,
      "outputs": [
        {
          "output_type": "stream",
          "name": "stderr",
          "text": [
            "/usr/local/lib/python3.7/dist-packages/ipykernel_launcher.py:11: SettingWithCopyWarning: \n",
            "A value is trying to be set on a copy of a slice from a DataFrame\n",
            "\n",
            "See the caveats in the documentation: https://pandas.pydata.org/pandas-docs/stable/user_guide/indexing.html#returning-a-view-versus-a-copy\n",
            "  # This is added back by InteractiveShellApp.init_path()\n",
            "/usr/local/lib/python3.7/dist-packages/ipykernel_launcher.py:9: SettingWithCopyWarning: \n",
            "A value is trying to be set on a copy of a slice from a DataFrame\n",
            "\n",
            "See the caveats in the documentation: https://pandas.pydata.org/pandas-docs/stable/user_guide/indexing.html#returning-a-view-versus-a-copy\n",
            "  if __name__ == '__main__':\n",
            "/usr/local/lib/python3.7/dist-packages/ipykernel_launcher.py:6: SettingWithCopyWarning: \n",
            "A value is trying to be set on a copy of a slice from a DataFrame\n",
            "\n",
            "See the caveats in the documentation: https://pandas.pydata.org/pandas-docs/stable/user_guide/indexing.html#returning-a-view-versus-a-copy\n",
            "  \n"
          ]
        }
      ]
    },
    {
      "cell_type": "code",
      "metadata": {
        "id": "yB4Bx3DFMvMt",
        "colab": {
          "base_uri": "https://localhost:8080/",
          "height": 0
        },
        "outputId": "b219a41c-31a0-4445-95a1-5713c36a2b2e"
      },
      "source": [
        "# how much percent off?\n",
        "df['percentoff'] = 100*(df.old_price - df.final_price)/df.old_price\n",
        "df = df.sort_values(by=['percentoff'], ascending=False)\n",
        "df.head()"
      ],
      "execution_count": 10,
      "outputs": [
        {
          "output_type": "execute_result",
          "data": {
            "text/html": [
              "<div>\n",
              "<style scoped>\n",
              "    .dataframe tbody tr th:only-of-type {\n",
              "        vertical-align: middle;\n",
              "    }\n",
              "\n",
              "    .dataframe tbody tr th {\n",
              "        vertical-align: top;\n",
              "    }\n",
              "\n",
              "    .dataframe thead th {\n",
              "        text-align: right;\n",
              "    }\n",
              "</style>\n",
              "<table border=\"1\" class=\"dataframe\">\n",
              "  <thead>\n",
              "    <tr style=\"text-align: right;\">\n",
              "      <th></th>\n",
              "      <th>title</th>\n",
              "      <th>link</th>\n",
              "      <th>sale_price</th>\n",
              "      <th>old_price</th>\n",
              "      <th>coupon</th>\n",
              "      <th>review</th>\n",
              "      <th>star_ratings</th>\n",
              "      <th>final_price</th>\n",
              "      <th>percentoff</th>\n",
              "    </tr>\n",
              "  </thead>\n",
              "  <tbody>\n",
              "    <tr>\n",
              "      <th>263</th>\n",
              "      <td>EVGA X17 Gaming Mouse, Wi</td>\n",
              "      <td>/EVGA-Customizable-Profiles-Ergonomic-903-W1-1...</td>\n",
              "      <td>29.99</td>\n",
              "      <td>79.99</td>\n",
              "      <td>no coupon</td>\n",
              "      <td>255.0</td>\n",
              "      <td>4.2</td>\n",
              "      <td>29.99</td>\n",
              "      <td>62.5078</td>\n",
              "    </tr>\n",
              "    <tr>\n",
              "      <th>245</th>\n",
              "      <td>EVGA X17 Gaming Mouse, Wi</td>\n",
              "      <td>/EVGA-Customizable-Profiles-Ergonomic-903-W1-1...</td>\n",
              "      <td>29.99</td>\n",
              "      <td>79.99</td>\n",
              "      <td>no coupon</td>\n",
              "      <td>255.0</td>\n",
              "      <td>4.2</td>\n",
              "      <td>29.99</td>\n",
              "      <td>62.5078</td>\n",
              "    </tr>\n",
              "    <tr>\n",
              "      <th>202</th>\n",
              "      <td>Logitech G604 LIGHTSPEED</td>\n",
              "      <td>/Logitech-LIGHTSPEED-programmable-connectivity...</td>\n",
              "      <td>44.99</td>\n",
              "      <td>99.99</td>\n",
              "      <td>no coupon</td>\n",
              "      <td>0.0</td>\n",
              "      <td>4.5</td>\n",
              "      <td>44.99</td>\n",
              "      <td>55.0055</td>\n",
              "    </tr>\n",
              "    <tr>\n",
              "      <th>161</th>\n",
              "      <td>Adesso iMouse E10 - Verti</td>\n",
              "      <td>/Adesso-iMouse-E10-Ergonomic-Orientation/dp/B0...</td>\n",
              "      <td>19.25</td>\n",
              "      <td>39.99</td>\n",
              "      <td>no coupon</td>\n",
              "      <td>282.0</td>\n",
              "      <td>4.2</td>\n",
              "      <td>19.25</td>\n",
              "      <td>51.863</td>\n",
              "    </tr>\n",
              "    <tr>\n",
              "      <th>98</th>\n",
              "      <td>Actto Wireless Vertical E</td>\n",
              "      <td>/Wireless-Vertical-Ergonomic-Adjustable-Comput...</td>\n",
              "      <td>10.50</td>\n",
              "      <td>20.99</td>\n",
              "      <td>no coupon</td>\n",
              "      <td>3.0</td>\n",
              "      <td>4.6</td>\n",
              "      <td>10.5</td>\n",
              "      <td>49.9762</td>\n",
              "    </tr>\n",
              "  </tbody>\n",
              "</table>\n",
              "</div>"
            ],
            "text/plain": [
              "                         title  ... percentoff\n",
              "263  EVGA X17 Gaming Mouse, Wi  ...    62.5078\n",
              "245  EVGA X17 Gaming Mouse, Wi  ...    62.5078\n",
              "202  Logitech G604 LIGHTSPEED   ...    55.0055\n",
              "161  Adesso iMouse E10 - Verti  ...     51.863\n",
              "98   Actto Wireless Vertical E  ...    49.9762\n",
              "\n",
              "[5 rows x 9 columns]"
            ]
          },
          "metadata": {},
          "execution_count": 10
        }
      ]
    },
    {
      "cell_type": "code",
      "metadata": {
        "colab": {
          "base_uri": "https://localhost:8080/"
        },
        "id": "gZsUGD8fiDcc",
        "outputId": "af631d8c-d7d1-41af-d067-3417681bb3f5"
      },
      "source": [
        "# remove duplicate rows\n",
        "df = df.drop_duplicates(subset =['title','sale_price','old_price','final_price'])\n",
        "#df.info()\n",
        "df['star_ratings'] = df['star_ratings'].astype(float)\n",
        "df['final_price'] = df['final_price'].astype(float)\n",
        "df.info()"
      ],
      "execution_count": 11,
      "outputs": [
        {
          "output_type": "stream",
          "name": "stdout",
          "text": [
            "<class 'pandas.core.frame.DataFrame'>\n",
            "Int64Index: 264 entries, 263 to 179\n",
            "Data columns (total 9 columns):\n",
            " #   Column        Non-Null Count  Dtype  \n",
            "---  ------        --------------  -----  \n",
            " 0   title         264 non-null    object \n",
            " 1   link          264 non-null    object \n",
            " 2   sale_price    264 non-null    float64\n",
            " 3   old_price     264 non-null    float64\n",
            " 4   coupon        264 non-null    object \n",
            " 5   review        264 non-null    float64\n",
            " 6   star_ratings  245 non-null    float64\n",
            " 7   final_price   264 non-null    float64\n",
            " 8   percentoff    264 non-null    object \n",
            "dtypes: float64(5), object(4)\n",
            "memory usage: 20.6+ KB\n"
          ]
        }
      ]
    },
    {
      "cell_type": "code",
      "metadata": {
        "id": "I-zqOEHmasIP",
        "colab": {
          "base_uri": "https://localhost:8080/",
          "height": 0
        },
        "outputId": "d4e95720-0266-4d02-8865-d7b370047e34"
      },
      "source": [
        "# how much money discounted?\n",
        "df['dollaroff'] = df.old_price - df.final_price\n",
        "\n",
        "df = df.sort_values(by=['dollaroff'], ascending=False)\n",
        "df.head()"
      ],
      "execution_count": 12,
      "outputs": [
        {
          "output_type": "execute_result",
          "data": {
            "text/html": [
              "<div>\n",
              "<style scoped>\n",
              "    .dataframe tbody tr th:only-of-type {\n",
              "        vertical-align: middle;\n",
              "    }\n",
              "\n",
              "    .dataframe tbody tr th {\n",
              "        vertical-align: top;\n",
              "    }\n",
              "\n",
              "    .dataframe thead th {\n",
              "        text-align: right;\n",
              "    }\n",
              "</style>\n",
              "<table border=\"1\" class=\"dataframe\">\n",
              "  <thead>\n",
              "    <tr style=\"text-align: right;\">\n",
              "      <th></th>\n",
              "      <th>title</th>\n",
              "      <th>link</th>\n",
              "      <th>sale_price</th>\n",
              "      <th>old_price</th>\n",
              "      <th>coupon</th>\n",
              "      <th>review</th>\n",
              "      <th>star_ratings</th>\n",
              "      <th>final_price</th>\n",
              "      <th>percentoff</th>\n",
              "      <th>dollaroff</th>\n",
              "    </tr>\n",
              "  </thead>\n",
              "  <tbody>\n",
              "    <tr>\n",
              "      <th>139</th>\n",
              "      <td>Carpal Tunnel Mouse Wrist</td>\n",
              "      <td>/Ergonomics-QuadraClicks-Recommended-Numbness-...</td>\n",
              "      <td>114.86</td>\n",
              "      <td>149.99</td>\n",
              "      <td>Save $25.00</td>\n",
              "      <td>51.0</td>\n",
              "      <td>4.0</td>\n",
              "      <td>89.86</td>\n",
              "      <td>40.0893</td>\n",
              "      <td>60.13</td>\n",
              "    </tr>\n",
              "    <tr>\n",
              "      <th>202</th>\n",
              "      <td>Logitech G604 LIGHTSPEED</td>\n",
              "      <td>/Logitech-LIGHTSPEED-programmable-connectivity...</td>\n",
              "      <td>44.99</td>\n",
              "      <td>99.99</td>\n",
              "      <td>no coupon</td>\n",
              "      <td>0.0</td>\n",
              "      <td>4.5</td>\n",
              "      <td>44.99</td>\n",
              "      <td>55.0055</td>\n",
              "      <td>55.00</td>\n",
              "    </tr>\n",
              "    <tr>\n",
              "      <th>337</th>\n",
              "      <td>Razer Basilisk Ultimate H</td>\n",
              "      <td>/Razer-Basilisk-Ultimate-HyperSpeed-Wireless/d...</td>\n",
              "      <td>119.99</td>\n",
              "      <td>169.99</td>\n",
              "      <td>no coupon</td>\n",
              "      <td>0.0</td>\n",
              "      <td>4.7</td>\n",
              "      <td>119.99</td>\n",
              "      <td>29.4135</td>\n",
              "      <td>50.00</td>\n",
              "    </tr>\n",
              "    <tr>\n",
              "      <th>240</th>\n",
              "      <td>Logitech G502 Lightspeed</td>\n",
              "      <td>/Logitech-Lightspeed-PowerPlay-Compatible-Ligh...</td>\n",
              "      <td>99.99</td>\n",
              "      <td>149.99</td>\n",
              "      <td>no coupon</td>\n",
              "      <td>0.0</td>\n",
              "      <td>4.7</td>\n",
              "      <td>99.99</td>\n",
              "      <td>33.3356</td>\n",
              "      <td>50.00</td>\n",
              "    </tr>\n",
              "    <tr>\n",
              "      <th>263</th>\n",
              "      <td>EVGA X17 Gaming Mouse, Wi</td>\n",
              "      <td>/EVGA-Customizable-Profiles-Ergonomic-903-W1-1...</td>\n",
              "      <td>29.99</td>\n",
              "      <td>79.99</td>\n",
              "      <td>no coupon</td>\n",
              "      <td>255.0</td>\n",
              "      <td>4.2</td>\n",
              "      <td>29.99</td>\n",
              "      <td>62.5078</td>\n",
              "      <td>50.00</td>\n",
              "    </tr>\n",
              "  </tbody>\n",
              "</table>\n",
              "</div>"
            ],
            "text/plain": [
              "                         title  ... dollaroff\n",
              "139  Carpal Tunnel Mouse Wrist  ...     60.13\n",
              "202  Logitech G604 LIGHTSPEED   ...     55.00\n",
              "337  Razer Basilisk Ultimate H  ...     50.00\n",
              "240  Logitech G502 Lightspeed   ...     50.00\n",
              "263  EVGA X17 Gaming Mouse, Wi  ...     50.00\n",
              "\n",
              "[5 rows x 10 columns]"
            ]
          },
          "metadata": {},
          "execution_count": 12
        }
      ]
    },
    {
      "cell_type": "code",
      "metadata": {
        "id": "XGyJu_1lGKo5"
      },
      "source": [
        "# save everything into a csv file\n"
      ],
      "execution_count": 13,
      "outputs": []
    },
    {
      "cell_type": "markdown",
      "metadata": {
        "id": "uWeCT44Asg8Z"
      },
      "source": [
        "# Part 3 Plotting distribution"
      ]
    },
    {
      "cell_type": "markdown",
      "metadata": {
        "id": "DybJfXFNMwXo"
      },
      "source": [
        "## 3.1.1 Sale Price distribution\n",
        "\n"
      ]
    },
    {
      "cell_type": "code",
      "metadata": {
        "colab": {
          "base_uri": "https://localhost:8080/",
          "height": 422
        },
        "id": "kzFgkf3Fp1jK",
        "outputId": "ae2ab63b-21e3-49c3-dfee-e967ba259d4e"
      },
      "source": [
        "import matplotlib.pyplot as plt\n",
        "import numpy as np\n",
        "\n",
        "#avg sale price\n",
        "avg_sale_price = round(np.mean(df['sale_price']),2)\n",
        "print('The average sale price of the vertical mouse is $',avg_sale_price)\n",
        "\n",
        "plt.figure(figsize=(8,6))\n",
        "\n",
        "plt.hist(df['sale_price'])\n",
        "plt.axvline(df['sale_price'].mean(), color='red', linewidth=2, label='mean_price')\n",
        "plt.axvline(df['sale_price'].median(), color='orange', linewidth=2, label='median_price')\n",
        "plt.legend(loc='upper right')\n",
        "\n",
        "plt.xlabel('sale_price')\n",
        "plt.ylabel('frequency')\n",
        "plt.title('Sale Price Distribution')\n",
        "plt.legend(loc='upper right')\n",
        "plt.show()"
      ],
      "execution_count": 14,
      "outputs": [
        {
          "output_type": "stream",
          "name": "stdout",
          "text": [
            "The average sale price of the vertical mouse is $ 39.63\n"
          ]
        },
        {
          "output_type": "display_data",
          "data": {
            "image/png": "[encoded data removed]",
            "text/plain": [
              "<Figure size 576x432 with 1 Axes>"
            ]
          },
          "metadata": {
            "needs_background": "light"
          }
        }
      ]
    },
    {
      "cell_type": "code",
      "metadata": {
        "id": "qF_t7Jy-Sw-z"
      },
      "source": [
        "import numpy as np \n",
        "conditions = [(df['sale_price']<df['sale_price'].mean()),\n",
        "         (df['sale_price']>=df['sale_price'].mean()) & (df['sale_price']<=60),\n",
        "         (df['sale_price']>1.5*df['sale_price'].median())]\n",
        "\n",
        "value = ['low','median','high']\n",
        "\n",
        "df['group_price'] = np.select(conditions,value)"
      ],
      "execution_count": 15,
      "outputs": []
    },
    {
      "cell_type": "code",
      "metadata": {
        "colab": {
          "base_uri": "https://localhost:8080/"
        },
        "id": "nvzvHojrghCD",
        "outputId": "04bf346e-e318-460b-ad2e-dc32a3d0c427"
      },
      "source": [
        "print(df[df['group_price']=='low']['review'].mean())\n",
        "print(df[df['group_price']=='median']['review'].mean())\n",
        "print(df[df['group_price']=='high']['review'].mean())"
      ],
      "execution_count": 16,
      "outputs": [
        {
          "output_type": "stream",
          "name": "stdout",
          "text": [
            "147.34972677595627\n",
            "74.0\n",
            "91.5\n"
          ]
        }
      ]
    },
    {
      "cell_type": "markdown",
      "metadata": {
        "id": "5trOafmjqBrK"
      },
      "source": [
        "## 3.1.2 Final Price distribution "
      ]
    },
    {
      "cell_type": "code",
      "metadata": {
        "colab": {
          "base_uri": "https://localhost:8080/",
          "height": 797
        },
        "id": "fz_uRYtgkfCd",
        "outputId": "041aec88-8c67-4b4e-dc57-e849ff0f60de"
      },
      "source": [
        "# the average final price\n",
        "avg_final_price = round(np.mean(df['final_price']),2)\n",
        "print('The average final price of vertical mouse is $',avg_final_price,'dollar')\n",
        "\n",
        "plt.figure(figsize=(8,6))\n",
        "plt.hist(df['final_price'])\n",
        "plt.axvline(df['final_price'].mean(), color='red', linewidth=2, label='mean_price')\n",
        "plt.axvline(df['final_price'].median(), color='orange', linewidth=2, label='median_price')\n",
        "plt.legend(loc='upper right')\n",
        "\n",
        "plt.xlabel('Final Price')\n",
        "plt.ylabel('frequency')\n",
        "plt.title('Final Price Distribution')\n",
        "plt.show()\n",
        "\n",
        "# the boxplot\n",
        "plt.figure(figsize=(8,6))\n",
        "df.boxplot(['sale_price','final_price'])"
      ],
      "execution_count": 17,
      "outputs": [
        {
          "output_type": "stream",
          "name": "stdout",
          "text": [
            "The average final price of vertical mouse is $ 38.93 dollar\n"
          ]
        },
        {
          "output_type": "display_data",
          "data": {
            "image/png": "[encoded data removed]",
            "text/plain": [
              "<Figure size 576x432 with 1 Axes>"
            ]
          },
          "metadata": {
            "needs_background": "light"
          }
        },
        {
          "output_type": "execute_result",
          "data": {
            "text/plain": [
              "<matplotlib.axes._subplots.AxesSubplot at 0x7f395b9bbf90>"
            ]
          },
          "metadata": {},
          "execution_count": 17
        },
        {
          "output_type": "display_data",
          "data": {
            "image/png": "[encoded data removed]",
            "text/plain": [
              "<Figure size 576x432 with 1 Axes>"
            ]
          },
          "metadata": {
            "needs_background": "light"
          }
        }
      ]
    },
    {
      "cell_type": "markdown",
      "metadata": {
        "id": "uCinQxSm0Tem"
      },
      "source": [
        "## 3.1.3 Ratings \n"
      ]
    },
    {
      "cell_type": "code",
      "metadata": {
        "colab": {
          "base_uri": "https://localhost:8080/",
          "height": 797
        },
        "id": "mNXBnXmNp--G",
        "outputId": "2fd7d1d8-c730-4e27-884d-af97cae1dc97"
      },
      "source": [
        "# the average star rating\n",
        "avg_rating= round(np.mean(df['star_ratings']),2)\n",
        "print('The average ratingof vertical mouse is',avg_rating,'stars out of 5.0')\n",
        "\n",
        "plt.figure(figsize=(8,6))\n",
        "plt.hist(df['star_ratings'])\n",
        "plt.axvline(df['star_ratings'].mean(), color='red', linewidth=2, label='mean_price')\n",
        "plt.axvline(df['star_ratings'].median(), color='orange', linewidth=2, label='median_price')\n",
        "plt.legend(loc='upper right')\n",
        "\n",
        "\n",
        "plt.xlabel('Rating Score')\n",
        "plt.ylabel('frequency')\n",
        "plt.title('Rating Distribution')\n",
        "plt.show()\n",
        "\n",
        "# the boxplot\n",
        "plt.figure(figsize=(8,6))\n",
        "df.boxplot(column=['star_ratings'])"
      ],
      "execution_count": 18,
      "outputs": [
        {
          "output_type": "stream",
          "name": "stdout",
          "text": [
            "The average ratingof vertical mouse is 4.2 stars out of 5.0\n"
          ]
        },
        {
          "output_type": "display_data",
          "data": {
            "image/png": "[encoded data removed]",
            "text/plain": [
              "<Figure size 576x432 with 1 Axes>"
            ]
          },
          "metadata": {
            "needs_background": "light"
          }
        },
        {
          "output_type": "execute_result",
          "data": {
            "text/plain": [
              "<matplotlib.axes._subplots.AxesSubplot at 0x7f395c25f8d0>"
            ]
          },
          "metadata": {},
          "execution_count": 18
        },
        {
          "output_type": "display_data",
          "data": {
            "image/png": "[encoded data removed]",
            "text/plain": [
              "<Figure size 576x432 with 1 Axes>"
            ]
          },
          "metadata": {
            "needs_background": "light"
          }
        }
      ]
    },
    {
      "cell_type": "markdown",
      "metadata": {
        "id": "Ij0XR974tLu1"
      },
      "source": [
        "##3.2 Filter the Vertical Mouse I want and save it in a new df\n",
        "I am interested in Ergonomic Mouse that is \n",
        "1. Greater than the median but Lower than 100\n",
        "2. Ratings Higher than the average star ratings\n",
        "3. Having at least 100 number of reviews so that I can scan through customer reviews\n",
        "4. number of review greater than the average "
      ]
    },
    {
      "cell_type": "code",
      "metadata": {
        "id": "t5K9Ynxhtvsg",
        "colab": {
          "base_uri": "https://localhost:8080/",
          "height": 585
        },
        "outputId": "d846308d-65f6-4c51-dd88-0dc4877cd40b"
      },
      "source": [
        "# the final dataset after filtering out the three criteria, we have 10 entries left off\n",
        "df_final = df[(df['final_price']<=60) &\n",
        "              (df['final_price']>=20) &\n",
        "              (df['star_ratings']>df['star_ratings'].median()) &\n",
        "              (df['review']>df['review'].mean())]\n",
        "#df_final\n",
        "\n",
        "# rank the final by star rating\n",
        "df_final = df_final.sort_values(by=['star_ratings'], ascending=False)\n",
        "df_final"
      ],
      "execution_count": 14,
      "outputs": [
        {
          "output_type": "execute_result",
          "data": {
            "text/html": [
              "<div>\n",
              "<style scoped>\n",
              "    .dataframe tbody tr th:only-of-type {\n",
              "        vertical-align: middle;\n",
              "    }\n",
              "\n",
              "    .dataframe tbody tr th {\n",
              "        vertical-align: top;\n",
              "    }\n",
              "\n",
              "    .dataframe thead th {\n",
              "        text-align: right;\n",
              "    }\n",
              "</style>\n",
              "<table border=\"1\" class=\"dataframe\">\n",
              "  <thead>\n",
              "    <tr style=\"text-align: right;\">\n",
              "      <th></th>\n",
              "      <th>title</th>\n",
              "      <th>link</th>\n",
              "      <th>sale_price</th>\n",
              "      <th>old_price</th>\n",
              "      <th>coupon</th>\n",
              "      <th>review</th>\n",
              "      <th>star_ratings</th>\n",
              "      <th>final_price</th>\n",
              "      <th>percentoff</th>\n",
              "      <th>dollaroff</th>\n",
              "    </tr>\n",
              "  </thead>\n",
              "  <tbody>\n",
              "    <tr>\n",
              "      <th>144</th>\n",
              "      <td>Perixx Perimice-719L, Lef</td>\n",
              "      <td>/Perixx-Perimice-719L-Wireless-Vertical-Portab...</td>\n",
              "      <td>21.99</td>\n",
              "      <td>21.99</td>\n",
              "      <td>no coupon</td>\n",
              "      <td>589.0</td>\n",
              "      <td>4.6</td>\n",
              "      <td>21.9900</td>\n",
              "      <td>0</td>\n",
              "      <td>0.0000</td>\n",
              "    </tr>\n",
              "    <tr>\n",
              "      <th>369</th>\n",
              "      <td>Verbatim 2.4G Wireless 8-</td>\n",
              "      <td>/Verbatim-Wireless-Desktop-8-Button-Deluxe/dp/...</td>\n",
              "      <td>24.99</td>\n",
              "      <td>36.00</td>\n",
              "      <td>no coupon</td>\n",
              "      <td>287.0</td>\n",
              "      <td>4.5</td>\n",
              "      <td>24.9900</td>\n",
              "      <td>30.5833</td>\n",
              "      <td>11.0100</td>\n",
              "    </tr>\n",
              "    <tr>\n",
              "      <th>34</th>\n",
              "      <td>ECHTPower Rechargeable Er</td>\n",
              "      <td>/ECHTPower-Rechargeable-Ergonomic-Mouse-Reduce...</td>\n",
              "      <td>23.99</td>\n",
              "      <td>23.99</td>\n",
              "      <td>Save 15%</td>\n",
              "      <td>340.0</td>\n",
              "      <td>4.5</td>\n",
              "      <td>20.3915</td>\n",
              "      <td>15</td>\n",
              "      <td>3.5985</td>\n",
              "    </tr>\n",
              "    <tr>\n",
              "      <th>13</th>\n",
              "      <td>Ergonomic Mouse, seenda W</td>\n",
              "      <td>/Ergonomic-Mouse-seenda-Wireless-Vertical/dp/B...</td>\n",
              "      <td>26.98</td>\n",
              "      <td>26.98</td>\n",
              "      <td>Save 5%</td>\n",
              "      <td>493.0</td>\n",
              "      <td>4.5</td>\n",
              "      <td>25.6310</td>\n",
              "      <td>5</td>\n",
              "      <td>1.3490</td>\n",
              "    </tr>\n",
              "    <tr>\n",
              "      <th>88</th>\n",
              "      <td>DELUX Wireless Ergonomic</td>\n",
              "      <td>/Ergonomic-Wireless-Rechargeable-Vertical-M618...</td>\n",
              "      <td>35.99</td>\n",
              "      <td>37.99</td>\n",
              "      <td>Save 10%</td>\n",
              "      <td>336.0</td>\n",
              "      <td>4.4</td>\n",
              "      <td>32.3910</td>\n",
              "      <td>14.7381</td>\n",
              "      <td>5.5990</td>\n",
              "    </tr>\n",
              "    <tr>\n",
              "      <th>352</th>\n",
              "      <td>Microsoft Sculpt Ergonomi</td>\n",
              "      <td>/Microsoft-Sculpt-Ergonomic-Mouse-L6V-00002/dp...</td>\n",
              "      <td>54.99</td>\n",
              "      <td>59.95</td>\n",
              "      <td>no coupon</td>\n",
              "      <td>324.0</td>\n",
              "      <td>4.4</td>\n",
              "      <td>54.9900</td>\n",
              "      <td>8.27356</td>\n",
              "      <td>4.9600</td>\n",
              "    </tr>\n",
              "    <tr>\n",
              "      <th>70</th>\n",
              "      <td>J-Tech Digital Vertical E</td>\n",
              "      <td>/J-Tech-Digital-Ergonomic-Adjustable-V628R/dp/...</td>\n",
              "      <td>29.95</td>\n",
              "      <td>29.95</td>\n",
              "      <td>Save 5%</td>\n",
              "      <td>558.0</td>\n",
              "      <td>4.4</td>\n",
              "      <td>28.4525</td>\n",
              "      <td>5</td>\n",
              "      <td>1.4975</td>\n",
              "    </tr>\n",
              "    <tr>\n",
              "      <th>5</th>\n",
              "      <td>J-Tech Digital Ergonomic</td>\n",
              "      <td>/J-Tech-Digital-Connection-Rechargeable-V638/d...</td>\n",
              "      <td>28.95</td>\n",
              "      <td>28.95</td>\n",
              "      <td>Save 5%</td>\n",
              "      <td>680.0</td>\n",
              "      <td>4.4</td>\n",
              "      <td>27.5025</td>\n",
              "      <td>5</td>\n",
              "      <td>1.4475</td>\n",
              "    </tr>\n",
              "    <tr>\n",
              "      <th>9</th>\n",
              "      <td>Ergonomic Vertical Mouse</td>\n",
              "      <td>/Ergonomic-Vertical-Computer-Adjustable-Remova...</td>\n",
              "      <td>25.99</td>\n",
              "      <td>25.99</td>\n",
              "      <td>no coupon</td>\n",
              "      <td>348.0</td>\n",
              "      <td>4.4</td>\n",
              "      <td>25.9900</td>\n",
              "      <td>0</td>\n",
              "      <td>0.0000</td>\n",
              "    </tr>\n",
              "    <tr>\n",
              "      <th>157</th>\n",
              "      <td>Adesso iMouseE1 - Vertica</td>\n",
              "      <td>/Adesso-iMouseE1-Ergonomic-Illuminated-Orienta...</td>\n",
              "      <td>28.89</td>\n",
              "      <td>28.89</td>\n",
              "      <td>no coupon</td>\n",
              "      <td>293.0</td>\n",
              "      <td>4.4</td>\n",
              "      <td>28.8900</td>\n",
              "      <td>0</td>\n",
              "      <td>0.0000</td>\n",
              "    </tr>\n",
              "    <tr>\n",
              "      <th>90</th>\n",
              "      <td>Ergonomic Wireless Mouse,</td>\n",
              "      <td>/Ergonomic-Wireless-Acedada-Rechargeable-Verti...</td>\n",
              "      <td>24.99</td>\n",
              "      <td>24.99</td>\n",
              "      <td>no coupon</td>\n",
              "      <td>546.0</td>\n",
              "      <td>4.4</td>\n",
              "      <td>24.9900</td>\n",
              "      <td>0</td>\n",
              "      <td>0.0000</td>\n",
              "    </tr>\n",
              "  </tbody>\n",
              "</table>\n",
              "</div>"
            ],
            "text/plain": [
              "                         title  ... dollaroff\n",
              "144  Perixx Perimice-719L, Lef  ...    0.0000\n",
              "369  Verbatim 2.4G Wireless 8-  ...   11.0100\n",
              "34   ECHTPower Rechargeable Er  ...    3.5985\n",
              "13   Ergonomic Mouse, seenda W  ...    1.3490\n",
              "88   DELUX Wireless Ergonomic   ...    5.5990\n",
              "352  Microsoft Sculpt Ergonomi  ...    4.9600\n",
              "70   J-Tech Digital Vertical E  ...    1.4975\n",
              "5    J-Tech Digital Ergonomic   ...    1.4475\n",
              "9    Ergonomic Vertical Mouse   ...    0.0000\n",
              "157  Adesso iMouseE1 - Vertica  ...    0.0000\n",
              "90   Ergonomic Wireless Mouse,  ...    0.0000\n",
              "\n",
              "[11 rows x 10 columns]"
            ]
          },
          "metadata": {},
          "execution_count": 14
        }
      ]
    },
    {
      "cell_type": "markdown",
      "metadata": {
        "id": "IO1PxMrDtSzg"
      },
      "source": [
        "#Part 4. Extract Product Information\n",
        "\n"
      ]
    },
    {
      "cell_type": "code",
      "metadata": {
        "id": "IcHPk8rU3ZIU",
        "colab": {
          "base_uri": "https://localhost:8080/",
          "height": 759
        },
        "outputId": "c8b3b671-6068-4179-fe3a-820c7453955c"
      },
      "source": [
        "pd.set_option('display.max_colwidth', None)\n",
        "df_final2 = df_final[['title','link','old_price','final_price','star_ratings']]\n",
        "\n",
        "df_final2['link'] = \"http://www.amazon.com\"+df_final2['link']\n",
        "df_final2"
      ],
      "execution_count": 16,
      "outputs": [
        {
          "output_type": "stream",
          "name": "stderr",
          "text": [
            "/usr/local/lib/python3.7/dist-packages/ipykernel_launcher.py:4: SettingWithCopyWarning: \n",
            "A value is trying to be set on a copy of a slice from a DataFrame.\n",
            "Try using .loc[row_indexer,col_indexer] = value instead\n",
            "\n",
            "See the caveats in the documentation: https://pandas.pydata.org/pandas-docs/stable/user_guide/indexing.html#returning-a-view-versus-a-copy\n",
            "  after removing the cwd from sys.path.\n"
          ]
        },
        {
          "output_type": "execute_result",
          "data": {
            "text/html": [
              "<div>\n",
              "<style scoped>\n",
              "    .dataframe tbody tr th:only-of-type {\n",
              "        vertical-align: middle;\n",
              "    }\n",
              "\n",
              "    .dataframe tbody tr th {\n",
              "        vertical-align: top;\n",
              "    }\n",
              "\n",
              "    .dataframe thead th {\n",
              "        text-align: right;\n",
              "    }\n",
              "</style>\n",
              "<table border=\"1\" class=\"dataframe\">\n",
              "  <thead>\n",
              "    <tr style=\"text-align: right;\">\n",
              "      <th></th>\n",
              "      <th>title</th>\n",
              "      <th>link</th>\n",
              "      <th>old_price</th>\n",
              "      <th>final_price</th>\n",
              "      <th>star_ratings</th>\n",
              "    </tr>\n",
              "  </thead>\n",
              "  <tbody>\n",
              "    <tr>\n",
              "      <th>144</th>\n",
              "      <td>Perixx Perimice-719L, Lef</td>\n",
              "      <td>http://www.amazon.com/Perixx-Perimice-719L-Wireless-Vertical-Portable/dp/B07SSD86LT/ref=sr_1_111?keywords=ergonomic+vertical+wireless+mouse&amp;qid=1638547760&amp;sr=8-111</td>\n",
              "      <td>21.99</td>\n",
              "      <td>21.9900</td>\n",
              "      <td>4.6</td>\n",
              "    </tr>\n",
              "    <tr>\n",
              "      <th>369</th>\n",
              "      <td>Verbatim 2.4G Wireless 8-</td>\n",
              "      <td>http://www.amazon.com/Verbatim-Wireless-Desktop-8-Button-Deluxe/dp/B00YHU0W16/ref=sr_1_281?keywords=ergonomic+vertical+wireless+mouse&amp;qid=1638547784&amp;sr=8-281</td>\n",
              "      <td>36.00</td>\n",
              "      <td>24.9900</td>\n",
              "      <td>4.5</td>\n",
              "    </tr>\n",
              "    <tr>\n",
              "      <th>34</th>\n",
              "      <td>ECHTPower Rechargeable Er</td>\n",
              "      <td>http://www.amazon.com/ECHTPower-Rechargeable-Ergonomic-Mouse-Reduce-Adjustable/dp/B07M6P9TW6/ref=sr_1_29?keywords=ergonomic+vertical+wireless+mouse&amp;qid=1638547748&amp;sr=8-29</td>\n",
              "      <td>23.99</td>\n",
              "      <td>20.3915</td>\n",
              "      <td>4.5</td>\n",
              "    </tr>\n",
              "    <tr>\n",
              "      <th>13</th>\n",
              "      <td>Ergonomic Mouse, seenda W</td>\n",
              "      <td>http://www.amazon.com/Ergonomic-Mouse-seenda-Wireless-Vertical/dp/B08LVJSX3T/ref=sr_1_14?keywords=ergonomic+vertical+wireless+mouse&amp;qid=1638547746&amp;sr=8-14</td>\n",
              "      <td>26.98</td>\n",
              "      <td>25.6310</td>\n",
              "      <td>4.5</td>\n",
              "    </tr>\n",
              "    <tr>\n",
              "      <th>88</th>\n",
              "      <td>DELUX Wireless Ergonomic</td>\n",
              "      <td>http://www.amazon.com/Ergonomic-Wireless-Rechargeable-Vertical-M618mini-Pearl-like/dp/B07NZ4GJ9W/ref=sr_1_67?keywords=ergonomic+vertical+wireless+mouse&amp;qid=1638547755&amp;sr=8-67</td>\n",
              "      <td>37.99</td>\n",
              "      <td>32.3910</td>\n",
              "      <td>4.4</td>\n",
              "    </tr>\n",
              "    <tr>\n",
              "      <th>352</th>\n",
              "      <td>Microsoft Sculpt Ergonomi</td>\n",
              "      <td>http://www.amazon.com/Microsoft-Sculpt-Ergonomic-Mouse-L6V-00002/dp/B00DUV01RS/ref=sr_1_270?keywords=ergonomic+vertical+wireless+mouse&amp;qid=1638547782&amp;sr=8-270</td>\n",
              "      <td>59.95</td>\n",
              "      <td>54.9900</td>\n",
              "      <td>4.4</td>\n",
              "    </tr>\n",
              "    <tr>\n",
              "      <th>70</th>\n",
              "      <td>J-Tech Digital Vertical E</td>\n",
              "      <td>http://www.amazon.com/J-Tech-Digital-Ergonomic-Adjustable-V628R/dp/B07P9CFRKS/ref=sr_1_54?keywords=ergonomic+vertical+wireless+mouse&amp;qid=1638547753&amp;sr=8-54</td>\n",
              "      <td>29.95</td>\n",
              "      <td>28.4525</td>\n",
              "      <td>4.4</td>\n",
              "    </tr>\n",
              "    <tr>\n",
              "      <th>5</th>\n",
              "      <td>J-Tech Digital Ergonomic</td>\n",
              "      <td>http://www.amazon.com/J-Tech-Digital-Connection-Rechargeable-V638/dp/B084JL59XV/ref=sr_1_6?keywords=ergonomic+vertical+wireless+mouse&amp;qid=1638547746&amp;sr=8-6</td>\n",
              "      <td>28.95</td>\n",
              "      <td>27.5025</td>\n",
              "      <td>4.4</td>\n",
              "    </tr>\n",
              "    <tr>\n",
              "      <th>9</th>\n",
              "      <td>Ergonomic Vertical Mouse</td>\n",
              "      <td>http://www.amazon.com/Ergonomic-Vertical-Computer-Adjustable-Removable/dp/B083TP2FHZ/ref=sr_1_10?keywords=ergonomic+vertical+wireless+mouse&amp;qid=1638547746&amp;sr=8-10</td>\n",
              "      <td>25.99</td>\n",
              "      <td>25.9900</td>\n",
              "      <td>4.4</td>\n",
              "    </tr>\n",
              "    <tr>\n",
              "      <th>157</th>\n",
              "      <td>Adesso iMouseE1 - Vertica</td>\n",
              "      <td>http://www.amazon.com/Adesso-iMouseE1-Ergonomic-Illuminated-Orientation/dp/B00GN0WL30/ref=sr_1_118?keywords=ergonomic+vertical+wireless+mouse&amp;qid=1638547762&amp;sr=8-118</td>\n",
              "      <td>28.89</td>\n",
              "      <td>28.8900</td>\n",
              "      <td>4.4</td>\n",
              "    </tr>\n",
              "    <tr>\n",
              "      <th>90</th>\n",
              "      <td>Ergonomic Wireless Mouse,</td>\n",
              "      <td>http://www.amazon.com/Ergonomic-Wireless-Acedada-Rechargeable-Vertical/dp/B07QR5CCRF/ref=sr_1_69?keywords=ergonomic+vertical+wireless+mouse&amp;qid=1638547755&amp;sr=8-69</td>\n",
              "      <td>24.99</td>\n",
              "      <td>24.9900</td>\n",
              "      <td>4.4</td>\n",
              "    </tr>\n",
              "  </tbody>\n",
              "</table>\n",
              "</div>"
            ],
            "text/plain": [
              "                         title  ... star_ratings\n",
              "144  Perixx Perimice-719L, Lef  ...          4.6\n",
              "369  Verbatim 2.4G Wireless 8-  ...          4.5\n",
              "34   ECHTPower Rechargeable Er  ...          4.5\n",
              "13   Ergonomic Mouse, seenda W  ...          4.5\n",
              "88   DELUX Wireless Ergonomic   ...          4.4\n",
              "352  Microsoft Sculpt Ergonomi  ...          4.4\n",
              "70   J-Tech Digital Vertical E  ...          4.4\n",
              "5    J-Tech Digital Ergonomic   ...          4.4\n",
              "9    Ergonomic Vertical Mouse   ...          4.4\n",
              "157  Adesso iMouseE1 - Vertica  ...          4.4\n",
              "90   Ergonomic Wireless Mouse,  ...          4.4\n",
              "\n",
              "[11 rows x 5 columns]"
            ]
          },
          "metadata": {},
          "execution_count": 16
        }
      ]
    },
    {
      "cell_type": "code",
      "metadata": {
        "colab": {
          "base_uri": "https://localhost:8080/",
          "height": 153
        },
        "id": "bGh9eym9ZjlK",
        "outputId": "eefd46b7-dabc-4920-91b6-f4f2df5c71ad"
      },
      "source": [
        "df[df['title'] == 'ASOI DOOMIER 2.4G Wireles']"
      ],
      "execution_count": 17,
      "outputs": [
        {
          "output_type": "execute_result",
          "data": {
            "text/html": [
              "<div>\n",
              "<style scoped>\n",
              "    .dataframe tbody tr th:only-of-type {\n",
              "        vertical-align: middle;\n",
              "    }\n",
              "\n",
              "    .dataframe tbody tr th {\n",
              "        vertical-align: top;\n",
              "    }\n",
              "\n",
              "    .dataframe thead th {\n",
              "        text-align: right;\n",
              "    }\n",
              "</style>\n",
              "<table border=\"1\" class=\"dataframe\">\n",
              "  <thead>\n",
              "    <tr style=\"text-align: right;\">\n",
              "      <th></th>\n",
              "      <th>title</th>\n",
              "      <th>link</th>\n",
              "      <th>sale_price</th>\n",
              "      <th>old_price</th>\n",
              "      <th>coupon</th>\n",
              "      <th>review</th>\n",
              "      <th>star_ratings</th>\n",
              "      <th>final_price</th>\n",
              "      <th>percentoff</th>\n",
              "      <th>dollaroff</th>\n",
              "    </tr>\n",
              "  </thead>\n",
              "  <tbody>\n",
              "    <tr>\n",
              "      <th>16</th>\n",
              "      <td>ASOI DOOMIER 2.4G Wireles</td>\n",
              "      <td>/gp/slredirect/picassoRedirect.html/ref=pa_sp_mtf_aps_sr_pg1_1?ie=UTF8&amp;adId=A0430937ZYXAQY8R6KS8&amp;url=%2FWireless-Vertical-Ergonomic-Adjustable-Performance%2Fdp%2FB0836J7K52%2Fref%3Dsr_1_17_sspa%3Fkeywords%3Dergonomic%2Bvertical%2Bwireless%2Bmouse%26qid%3D1638547746%26sr%3D8-17-spons%26psc%3D1%26smid%3DA1PVZ33AR618I8&amp;qualifier=1638547746&amp;id=2281163136919549&amp;widgetName=sp_mtf</td>\n",
              "      <td>22.99</td>\n",
              "      <td>22.99</td>\n",
              "      <td>Save 20%</td>\n",
              "      <td>952.0</td>\n",
              "      <td>4.2</td>\n",
              "      <td>18.392</td>\n",
              "      <td>20</td>\n",
              "      <td>4.598</td>\n",
              "    </tr>\n",
              "  </tbody>\n",
              "</table>\n",
              "</div>"
            ],
            "text/plain": [
              "                        title  ... dollaroff\n",
              "16  ASOI DOOMIER 2.4G Wireles  ...     4.598\n",
              "\n",
              "[1 rows x 10 columns]"
            ]
          },
          "metadata": {},
          "execution_count": 17
        }
      ]
    },
    {
      "cell_type": "markdown",
      "metadata": {
        "id": "DiIdCj0uqSwC"
      },
      "source": [
        "# Part 5. Sending Email for recommendation"
      ]
    },
    {
      "cell_type": "code",
      "metadata": {
        "id": "Rp-CTXqapa-0"
      },
      "source": [
        "import smtplib\n",
        "from email.mime.multipart import MIMEMultipart\n",
        "from email.mime.text import MIMEText\n",
        "from email.mime.base import MIMEBase\n",
        "# sending e-mail\n",
        "def send_mail(body):\n",
        "\n",
        "    message = MIMEMultipart()\n",
        "    message['Subject'] = \"\"\"Don't Miss out! Top Selected Mouse For You\"\"\"\n",
        "    message['From'] = 'jonedoe@gmail.com'\n",
        "    message['To'] = 'jonedoe@gmail.com'\n",
        "\n",
        "    body_content = body\n",
        "    message.attach(MIMEText(body_content, \"html\"))\n",
        "    msg_body = message.as_string()\n",
        "\n",
        "    server = SMTP('smtp.gmail.com', 587)\n",
        "    server.starttls()\n",
        "    server.login(message['From'], 'YourPassword')\n",
        "    server.sendmail(message['From'], message['To'], msg_body)\n",
        "    server.quit()"
      ],
      "execution_count": 35,
      "outputs": []
    },
    {
      "cell_type": "code",
      "metadata": {
        "id": "EoBTRJdnd_HG",
        "colab": {
          "base_uri": "https://localhost:8080/"
        },
        "outputId": "47114b1a-5466-4b10-c00b-b3f38dd74031"
      },
      "source": [
        "!pip install pretty_html_table"
      ],
      "execution_count": 24,
      "outputs": [
        {
          "output_type": "stream",
          "name": "stdout",
          "text": [
            "Collecting pretty_html_table\n",
            "  Downloading pretty_html_table-0.9.15-py3-none-any.whl (6.4 kB)\n",
            "Requirement already satisfied: pandas in /usr/local/lib/python3.7/dist-packages (from pretty_html_table) (1.1.5)\n",
            "Requirement already satisfied: numpy>=1.15.4 in /usr/local/lib/python3.7/dist-packages (from pandas->pretty_html_table) (1.19.5)\n",
            "Requirement already satisfied: python-dateutil>=2.7.3 in /usr/local/lib/python3.7/dist-packages (from pandas->pretty_html_table) (2.8.2)\n",
            "Requirement already satisfied: pytz>=2017.2 in /usr/local/lib/python3.7/dist-packages (from pandas->pretty_html_table) (2018.9)\n",
            "Requirement already satisfied: six>=1.5 in /usr/local/lib/python3.7/dist-packages (from python-dateutil>=2.7.3->pandas->pretty_html_table) (1.15.0)\n",
            "Installing collected packages: pretty-html-table\n",
            "Successfully installed pretty-html-table-0.9.15\n"
          ]
        }
      ]
    },
    {
      "cell_type": "code",
      "metadata": {
        "id": "6j3tkFP7sIU5",
        "colab": {
          "base_uri": "https://localhost:8080/",
          "height": 35
        },
        "outputId": "a2212a07-5c06-42b3-acd6-91b32305f1f9"
      },
      "source": [
        "from pretty_html_table import build_table\n",
        "\n",
        "def send_mouse_list():\n",
        "    mouse_list = build_table(df_final2, 'blue_light')\n",
        "    msg = \"\"\"<p> Hi, Floy! </p>\n",
        "    <p> This is the recommendation of the mouse you want. They all have at least 100 reviews, \n",
        "    price range between $25~$80, and are at least rated higher than the average customer star ratings. \n",
        "    Lets get the right mouse for you :)</p> \n",
        "    <p> Have a wonderful day! </p> <br></br>\"\"\" + mouse_list\n",
        "    send_mail(msg)\n",
        "    return \"Mail sent successfully.\"\n",
        "\n",
        "\n",
        "send_mouse_list()"
      ],
      "execution_count": 37,
      "outputs": [
        {
          "output_type": "execute_result",
          "data": {
            "application/vnd.google.colaboratory.intrinsic+json": {
              "type": "string"
            },
            "text/plain": [
              "'Mail sent successfully.'"
            ]
          },
          "metadata": {},
          "execution_count": 37
        }
      ]
    }
  ]
}